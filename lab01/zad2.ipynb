{
 "cells": [
  {
   "cell_type": "code",
   "execution_count": null,
   "metadata": {},
   "outputs": [],
   "source": [
    "import pandas as pd\n",
    "from matplotlib import pyplot as plt\n"
   ]
  },
  {
   "cell_type": "code",
   "execution_count": null,
   "metadata": {},
   "outputs": [],
   "source": [
    "\n",
    "miasta_csv = \"/home/LABPK/bbrodowski/ROK2/4semestr/AI/lab1/miasta.csv\"\n",
    " \n",
    "# Data of year 2010\n",
    "data = {\n",
    "    'Rok': [2010],\n",
    "    'Gdansk': [460],\n",
    "    'Poznan': [555],\n",
    "    'Szczecin': [405]\n",
    "}\n",
    " \n",
    "# Make data frame of above data\n",
    "df = pd.DataFrame(data)\n"
   ]
  },
  {
   "cell_type": "code",
   "execution_count": null,
   "metadata": {},
   "outputs": [],
   "source": [
    "\n",
    "# Add row to csv file\n",
    "\n",
    "# df.to_csv('/home/LABPK/bbrodowski/ROK2/4semestr/AI/lab1/miasta.csv', mode='a', index=False, header=False, columns=['Rok', 'Gdansk', 'Poznan', 'Szczecin'])\n",
    "\n",
    "# Dla Gdanska\n",
    "plt.rcParams[\"figure.figsize\"] = [7.00, 3.50]\n",
    "plt.rcParams[\"figure.autolayout\"] = True\n",
    "columns = [\"Gdansk\", \"Rok\", \"Poznan\", \"Szczecin\"]\n",
    "df2 = pd.read_csv(r'C:\\Users\\Admin\\Desktop\\Programowanie\\2Rok\\4Semestr\\inteligencja_obliczeniowa\\lab1\\miasta.csv', usecols=columns)\n",
    "print(\"Contents in csv file:\", df2)\n",
    "plt.plot(df2.Rok, df2.Gdansk)\n",
    "plt.plot(df2.Rok, df2.Poznan)\n",
    "plt.plot(df2.Rok, df2.Szczecin)\n",
    "plt.legend([\"Gdansk\", \"Poznan\", \"Szczecin\"], loc=\"upper left\")\n",
    "\n",
    "# plt.show()\n",
    "\n",
    "# columns_many = ['Rok', 'Gdansk', 'Poznan', 'Szczecin']\n",
    "# df_many = pd.read_csv(\"/home/LABPK/bbrodowski/ROK2/4semestr/AI/lab1/miasta.csv\", usecols=columns_many)\n",
    "# df_many.plot(df_many.Rok, df_many.Gdansk, df_many.Poznan, df_many.Szczecin)\n",
    "    \n",
    "plt.show()\n"
   ]
  },
  {
   "cell_type": "code",
   "execution_count": null,
   "metadata": {},
   "outputs": [],
   "source": [
    "print('------------------------')\n",
    "\n",
    "# Standarize Gdansk column\n",
    "print(\"Standarize Gdansk column\")\n",
    "print((df2['Gdansk'] - df2['Gdansk'].mean()) / df2['Gdansk'])\n",
    "\n",
    "print(\"Mean of Gdansk column: \", ((df2['Gdansk'] - df2['Gdansk'].mean()) / df2['Gdansk']).mean())\n",
    "print(\"Standard deviation of Gdansk column: \", ((df2['Gdansk'] - df2['Gdansk'].mean()) / df2['Gdansk'].std()).std())\n",
    "print('------------------------')\n",
    "\n",
    "\n",
    "# Standarize Poznan column\n",
    "print(\"Standarize Poznan column\")\n",
    "print((df2['Poznan'] - df2['Poznan'].mean()) / df2['Poznan'])\n",
    "print(\"Mean of Poznan column: \", ((df2['Poznan'] - df2['Poznan'].mean()) / df2['Poznan']).mean())\n",
    "print(\"Standard deviation of Poznan column: \", ((df2['Poznan'] - df2['Poznan'].mean()) / df2['Poznan'].std()).std())\n",
    "print('------------------------')\n",
    "\n",
    "# Standarize Szczecin column\n",
    "print(\"Standarize Szczecin column\")\n",
    "print((df2['Szczecin'] - df2['Szczecin'].mean()) / df2['Szczecin'])\n",
    "print(\"Mean of Szczecin column: \", ((df2['Szczecin'] - df2['Szczecin'].mean()) / df2['Szczecin']).mean())\n",
    "print(\"Standard deviation of Szczecin column: \", ((df2['Szczecin'] - df2['Szczecin'].mean()) / df2['Szczecin'].std()).std())\n",
    "print('------------------------')\n",
    "\n",
    "# Normalize Gdansk column\n",
    "print(\"Normalize Gdansk column\")\n",
    "print((df2['Gdansk'] - df2['Gdansk'].min()) / (df2['Gdansk'].max() - df2['Gdansk'].min()))\n",
    "print(\"Max value of Gdansk column: \", (df2['Gdansk'] - df2['Gdansk'].min()) / (df2['Gdansk'].max() - df2['Gdansk'].min()).max())\n",
    "print(\"Min value of Gdansk column: \", (df2['Gdansk'] - df2['Gdansk'].min()) / (df2['Gdansk'].max() - df2['Gdansk'].min()).min())\n",
    "print('------------------------')\n",
    "\n",
    "# Normalize Poznan column\n",
    "print(\"Normalize Poznan column\")\n",
    "print((df2['Poznan'] - df2['Poznan'].min()) / (df2['Poznan'].max() - df2['Poznan'].min()))\n",
    "print(\"Max value of Poznan column: \", (df2['Poznan'] - df2['Poznan'].min()) / (df2['Poznan'].max() - df2['Poznan'].min()).max())\n",
    "print(\"Min value of Poznan column: \", (df2['Poznan'] - df2['Poznan'].min()) / (df2['Poznan'].max() - df2['Poznan'].min()).min())\n",
    "print('------------------------')\n",
    "\n",
    "# Normalize Szczecin column\n",
    "print(\"Normalize Szczecin column\")\n",
    "print((df2['Szczecin'] - df2['Szczecin'].min()) / (df2['Szczecin'].max() - df2['Szczecin'].min()))\n",
    "print(\"Max value of Szczecin column: \", (df2['Szczecin'] - df2['Szczecin'].min()) / (df2['Szczecin'].max() - df2['Szczecin'].min()).max())\n",
    "print(\"Min value of Szczecin column: \", (df2['Szczecin'] - df2['Szczecin'].min()) / (df2['Szczecin'].max() - df2['Szczecin'].min()).min())\n",
    "print('------------------------')"
   ]
  }
 ],
 "metadata": {
  "language_info": {
   "name": "python"
  },
  "orig_nbformat": 4
 },
 "nbformat": 4,
 "nbformat_minor": 2
}
